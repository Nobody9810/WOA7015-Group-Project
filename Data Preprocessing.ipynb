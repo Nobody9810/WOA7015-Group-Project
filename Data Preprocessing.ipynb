{
 "cells": [
  {
   "cell_type": "markdown",
   "metadata": {
    "id": "PnpPjKVD68eH"
   },
   "source": [
    "## Setup\n",
    "\n",
    "Begin by installing and importing some necessary libraries"
   ]
  },
  {
   "cell_type": "markdown",
   "metadata": {},
   "source": [
    "# The way this tutorial uses the `TimeDistributed` layer requires TF>=2.10\n",
    "pip install -U \"tensorflow>=2.10.0\"\n",
    "\n",
    "pip install remotezip tqdm opencv-python\n",
    "pip install -q git+https://github.com/tensorflow/docs\n",
    "\n",
    "pip install imageio\n",
    "\n",
    "import imageio\n",
    "\n",
    "pip install scikit-learn"
   ]
  },
  {
   "cell_type": "code",
   "execution_count": 4,
   "metadata": {
    "id": "9RYQIJ9C6BVH"
   },
   "outputs": [],
   "source": [
    "import numpy as np\n",
    "import pandas as pd\n",
    "import matplotlib.pyplot as plt\n",
    "from torch.utils.data import DataLoader, TensorDataset\n",
    "from sklearn.preprocessing import StandardScaler\n",
    "from sklearn.model_selection import train_test_split\n",
    "import torch\n",
    "import torch.nn as nn\n",
    "from torch.nn.parameter import Parameter\n",
    "from sklearn.preprocessing import LabelEncoder\n",
    "\n",
    "import cv2 # process video files\n",
    "import imageio\n",
    "from tensorflow_docs.vis import embed #for embedding data in a Jupyter notebook\n",
    "import tensorflow as tf\n",
    "from tensorflow.keras.utils import to_categorical\n",
    "import math"
   ]
  },
  {
   "cell_type": "markdown",
   "metadata": {
    "id": "KbhwWLLM7FXo"
   },
   "source": [
    "## Download dataset\n",
    "\n"
   ]
  },
  {
   "cell_type": "code",
   "execution_count": 5,
   "metadata": {
    "colab": {
     "base_uri": "https://localhost:8080/"
    },
    "id": "gVIgj-jIA8U8",
    "outputId": "79d45470-27d8-4351-c605-0c6802d140c8"
   },
   "outputs": [],
   "source": [
    "dataset_file_path = \"C:/Users/s2165/OneDrive/Documents/UM/Master Second Sem/WOA7015 ADVANCED MACHINE LEARNING/Group Project\"\n",
    "\n",
    "dataset_filepath = dataset_file_path+\"/input_data_new.csv\"\n",
    "df = pd.read_csv(dataset_filepath)"
   ]
  },
  {
   "cell_type": "code",
   "execution_count": 6,
   "metadata": {
    "colab": {
     "base_uri": "https://localhost:8080/"
    },
    "id": "gdSHtlsX40eU",
    "outputId": "b1a63833-4b20-4468-f620-bb7d979f271b"
   },
   "outputs": [
    {
     "name": "stdout",
     "output_type": "stream",
     "text": [
      "Num GPUs Available:  0\n"
     ]
    }
   ],
   "source": [
    "print(\"Num GPUs Available: \", len(tf.config.list_physical_devices('GPU')))"
   ]
  },
  {
   "cell_type": "markdown",
   "metadata": {
    "id": "i5gs6j982P3e"
   },
   "source": [
    "## Create frames from each video file\n",
    "\n"
   ]
  },
  {
   "cell_type": "markdown",
   "metadata": {
    "id": "V_EpG1896nJy"
   },
   "source": [
    "Using pandas library to process dataframe and returen to the seconds."
   ]
  },
  {
   "cell_type": "code",
   "execution_count": 7,
   "metadata": {
    "id": "A-sNCzKj2P3f"
   },
   "outputs": [],
   "source": [
    "def convert_time_to_seconds(time_str):\n",
    "    h, m, s = map(int, time_str.split(':'))\n",
    "    return h * 3600 + m * 60 + s\n",
    "\n",
    "df[\"start_time_seconds\"]=df[\"Start_Time\"].apply(convert_time_to_seconds)\n",
    "df[\"end_time_seconds\"]=df[\"End_Time\"].apply(convert_time_to_seconds)\n",
    "class_list = df.Movement_Name.unique()"
   ]
  },
  {
   "cell_type": "code",
   "execution_count": 8,
   "metadata": {
    "id": "9ucICTIp2uqH"
   },
   "outputs": [],
   "source": [
    "#Extract frame from video\n",
    "def extract_frame(path,start_time,end_time):\n",
    "  frame_list = []\n",
    "  SEQUENCE_LENGTH = 24\n",
    "\n",
    "  # Open the video file for reading\n",
    "  video_reader = cv2.VideoCapture(path)\n",
    "\n",
    "  # Get the frames per second (fps), start_frame, and end_frame for the specified video duration\n",
    "  fps = int(video_reader.get(cv2.CAP_PROP_FPS))\n",
    "  frame_count = int(video_reader.get(cv2.CAP_PROP_FRAME_COUNT))\n",
    "  start_frame = int(start_time*fps)\n",
    "  end_frame = int(end_time*fps)\n",
    "  interval_frame = end_frame - start_frame\n",
    "\n",
    "  #calculate the skip frame number formula total duration of interval frame / sequence length\n",
    "  skip_frame_window = max(interval_frame/SEQUENCE_LENGTH,1)\n",
    "\n",
    "  # Get the height and width of the video frames\n",
    "  height = video_reader.get(cv2.CAP_PROP_FRAME_HEIGHT)\n",
    "  width = video_reader.get(cv2.CAP_PROP_FRAME_WIDTH)\n",
    "  print(f'fps:{fps}, frame_cnt:{frame_count} interval_frame:{interval_frame}, height:{height}, width:{width}, start_frame:{start_frame},end_frame:{end_frame},skip:{skip_frame_window}')\n",
    "\n",
    "\n",
    "  # Set the video reader to the start frame\n",
    "  video_reader.set(cv2.CAP_PROP_POS_FRAMES,start_frame)\n",
    "  current_frame = start_frame\n",
    "\n",
    "  # Iterate through frames in the specified interval\n",
    "  while video_reader.isOpened() and math.ceil(current_frame) < end_frame:\n",
    "    ret, frame = video_reader.read()\n",
    "    if not ret:\n",
    "      break\n",
    "\n",
    "    # Convert the frame from BGR to RGB\n",
    "    frame_rgb_opencv = cv2.cvtColor(frame, cv2.COLOR_BGR2RGB)\n",
    "\n",
    "    # Resize the frame to a specific size (720x1280)\n",
    "    resized_frame = cv2.resize(frame_rgb_opencv,(128,128))\n",
    "\n",
    "    #normalize data to [0,1]\n",
    "    frame = tf.image.convert_image_dtype(resized_frame, tf.float32)\n",
    "      \n",
    "    # Append the resized frame to the frame_list\n",
    "    frame_list.append(frame)\n",
    "\n",
    "    # Set the video reader to the next frame position\n",
    "    video_reader.set(cv2.CAP_PROP_POS_FRAMES, int(current_frame + skip_frame_window) )\n",
    "\n",
    "    # Increment the current_frame by skip_frame_window\n",
    "    current_frame += skip_frame_window\n",
    "\n",
    "    #current_frame += 1\n",
    "\n",
    "  # Release the video reader and close any remaining OpenCV windows\n",
    "  video_reader.release()\n",
    "  cv2.destroyAllWindows()\n",
    "  print(len(frame_list))\n",
    "    \n",
    "  # Return the list of extracted frames\n",
    "    \n",
    "  return frame_list;"
   ]
  },
  {
   "cell_type": "code",
   "execution_count": 9,
   "metadata": {
    "colab": {
     "base_uri": "https://localhost:8080/"
    },
    "id": "I69o_DLD2xRH",
    "outputId": "53ceaa35-6fe7-4751-8ead-f0aef7304f5c"
   },
   "outputs": [
    {
     "name": "stdout",
     "output_type": "stream",
     "text": [
      "fps:0, frame_cnt:0 interval_frame:0, height:0.0, width:0.0, start_frame:0,end_frame:0,skip:1\n",
      "0\n",
      "fps:0, frame_cnt:0 interval_frame:0, height:0.0, width:0.0, start_frame:0,end_frame:0,skip:1\n",
      "0\n",
      "fps:0, frame_cnt:0 interval_frame:0, height:0.0, width:0.0, start_frame:0,end_frame:0,skip:1\n",
      "0\n",
      "fps:0, frame_cnt:0 interval_frame:0, height:0.0, width:0.0, start_frame:0,end_frame:0,skip:1\n",
      "0\n",
      "fps:0, frame_cnt:0 interval_frame:0, height:0.0, width:0.0, start_frame:0,end_frame:0,skip:1\n",
      "0\n",
      "fps:0, frame_cnt:0 interval_frame:0, height:0.0, width:0.0, start_frame:0,end_frame:0,skip:1\n",
      "0\n",
      "fps:0, frame_cnt:0 interval_frame:0, height:0.0, width:0.0, start_frame:0,end_frame:0,skip:1\n",
      "0\n",
      "fps:0, frame_cnt:0 interval_frame:0, height:0.0, width:0.0, start_frame:0,end_frame:0,skip:1\n",
      "0\n",
      "fps:0, frame_cnt:0 interval_frame:0, height:0.0, width:0.0, start_frame:0,end_frame:0,skip:1\n",
      "0\n",
      "fps:0, frame_cnt:0 interval_frame:0, height:0.0, width:0.0, start_frame:0,end_frame:0,skip:1\n",
      "0\n",
      "fps:0, frame_cnt:0 interval_frame:0, height:0.0, width:0.0, start_frame:0,end_frame:0,skip:1\n",
      "0\n",
      "fps:0, frame_cnt:0 interval_frame:0, height:0.0, width:0.0, start_frame:0,end_frame:0,skip:1\n",
      "0\n",
      "fps:0, frame_cnt:0 interval_frame:0, height:0.0, width:0.0, start_frame:0,end_frame:0,skip:1\n",
      "0\n",
      "fps:0, frame_cnt:0 interval_frame:0, height:0.0, width:0.0, start_frame:0,end_frame:0,skip:1\n",
      "0\n",
      "fps:0, frame_cnt:0 interval_frame:0, height:0.0, width:0.0, start_frame:0,end_frame:0,skip:1\n",
      "0\n",
      "fps:0, frame_cnt:0 interval_frame:0, height:0.0, width:0.0, start_frame:0,end_frame:0,skip:1\n",
      "0\n",
      "fps:0, frame_cnt:0 interval_frame:0, height:0.0, width:0.0, start_frame:0,end_frame:0,skip:1\n",
      "0\n",
      "fps:0, frame_cnt:0 interval_frame:0, height:0.0, width:0.0, start_frame:0,end_frame:0,skip:1\n",
      "0\n",
      "fps:0, frame_cnt:0 interval_frame:0, height:0.0, width:0.0, start_frame:0,end_frame:0,skip:1\n",
      "0\n",
      "fps:0, frame_cnt:0 interval_frame:0, height:0.0, width:0.0, start_frame:0,end_frame:0,skip:1\n",
      "0\n",
      "fps:0, frame_cnt:0 interval_frame:0, height:0.0, width:0.0, start_frame:0,end_frame:0,skip:1\n",
      "0\n",
      "fps:0, frame_cnt:0 interval_frame:0, height:0.0, width:0.0, start_frame:0,end_frame:0,skip:1\n",
      "0\n",
      "fps:0, frame_cnt:0 interval_frame:0, height:0.0, width:0.0, start_frame:0,end_frame:0,skip:1\n",
      "0\n",
      "fps:0, frame_cnt:0 interval_frame:0, height:0.0, width:0.0, start_frame:0,end_frame:0,skip:1\n",
      "0\n",
      "fps:0, frame_cnt:0 interval_frame:0, height:0.0, width:0.0, start_frame:0,end_frame:0,skip:1\n",
      "0\n",
      "fps:0, frame_cnt:0 interval_frame:0, height:0.0, width:0.0, start_frame:0,end_frame:0,skip:1\n",
      "0\n",
      "fps:0, frame_cnt:0 interval_frame:0, height:0.0, width:0.0, start_frame:0,end_frame:0,skip:1\n",
      "0\n",
      "fps:0, frame_cnt:0 interval_frame:0, height:0.0, width:0.0, start_frame:0,end_frame:0,skip:1\n",
      "0\n",
      "fps:0, frame_cnt:0 interval_frame:0, height:0.0, width:0.0, start_frame:0,end_frame:0,skip:1\n",
      "0\n",
      "fps:0, frame_cnt:0 interval_frame:0, height:0.0, width:0.0, start_frame:0,end_frame:0,skip:1\n",
      "0\n",
      "fps:0, frame_cnt:0 interval_frame:0, height:0.0, width:0.0, start_frame:0,end_frame:0,skip:1\n",
      "0\n",
      "fps:0, frame_cnt:0 interval_frame:0, height:0.0, width:0.0, start_frame:0,end_frame:0,skip:1\n",
      "0\n",
      "fps:0, frame_cnt:0 interval_frame:0, height:0.0, width:0.0, start_frame:0,end_frame:0,skip:1\n",
      "0\n",
      "fps:0, frame_cnt:0 interval_frame:0, height:0.0, width:0.0, start_frame:0,end_frame:0,skip:1\n",
      "0\n",
      "fps:0, frame_cnt:0 interval_frame:0, height:0.0, width:0.0, start_frame:0,end_frame:0,skip:1\n",
      "0\n",
      "fps:0, frame_cnt:0 interval_frame:0, height:0.0, width:0.0, start_frame:0,end_frame:0,skip:1\n",
      "0\n",
      "fps:0, frame_cnt:0 interval_frame:0, height:0.0, width:0.0, start_frame:0,end_frame:0,skip:1\n",
      "0\n",
      "fps:0, frame_cnt:0 interval_frame:0, height:0.0, width:0.0, start_frame:0,end_frame:0,skip:1\n",
      "0\n",
      "fps:0, frame_cnt:0 interval_frame:0, height:0.0, width:0.0, start_frame:0,end_frame:0,skip:1\n",
      "0\n",
      "fps:0, frame_cnt:0 interval_frame:0, height:0.0, width:0.0, start_frame:0,end_frame:0,skip:1\n",
      "0\n",
      "fps:0, frame_cnt:0 interval_frame:0, height:0.0, width:0.0, start_frame:0,end_frame:0,skip:1\n",
      "0\n",
      "fps:0, frame_cnt:0 interval_frame:0, height:0.0, width:0.0, start_frame:0,end_frame:0,skip:1\n",
      "0\n",
      "fps:0, frame_cnt:0 interval_frame:0, height:0.0, width:0.0, start_frame:0,end_frame:0,skip:1\n",
      "0\n",
      "fps:0, frame_cnt:0 interval_frame:0, height:0.0, width:0.0, start_frame:0,end_frame:0,skip:1\n",
      "0\n",
      "fps:0, frame_cnt:0 interval_frame:0, height:0.0, width:0.0, start_frame:0,end_frame:0,skip:1\n",
      "0\n",
      "fps:0, frame_cnt:0 interval_frame:0, height:0.0, width:0.0, start_frame:0,end_frame:0,skip:1\n",
      "0\n",
      "fps:0, frame_cnt:0 interval_frame:0, height:0.0, width:0.0, start_frame:0,end_frame:0,skip:1\n",
      "0\n",
      "fps:0, frame_cnt:0 interval_frame:0, height:0.0, width:0.0, start_frame:0,end_frame:0,skip:1\n",
      "0\n",
      "fps:0, frame_cnt:0 interval_frame:0, height:0.0, width:0.0, start_frame:0,end_frame:0,skip:1\n",
      "0\n",
      "fps:0, frame_cnt:0 interval_frame:0, height:0.0, width:0.0, start_frame:0,end_frame:0,skip:1\n",
      "0\n",
      "fps:0, frame_cnt:0 interval_frame:0, height:0.0, width:0.0, start_frame:0,end_frame:0,skip:1\n",
      "0\n",
      "fps:0, frame_cnt:0 interval_frame:0, height:0.0, width:0.0, start_frame:0,end_frame:0,skip:1\n",
      "0\n",
      "fps:0, frame_cnt:0 interval_frame:0, height:0.0, width:0.0, start_frame:0,end_frame:0,skip:1\n",
      "0\n",
      "fps:0, frame_cnt:0 interval_frame:0, height:0.0, width:0.0, start_frame:0,end_frame:0,skip:1\n",
      "0\n",
      "fps:0, frame_cnt:0 interval_frame:0, height:0.0, width:0.0, start_frame:0,end_frame:0,skip:1\n",
      "0\n",
      "fps:0, frame_cnt:0 interval_frame:0, height:0.0, width:0.0, start_frame:0,end_frame:0,skip:1\n",
      "0\n",
      "fps:0, frame_cnt:0 interval_frame:0, height:0.0, width:0.0, start_frame:0,end_frame:0,skip:1\n",
      "0\n",
      "fps:0, frame_cnt:0 interval_frame:0, height:0.0, width:0.0, start_frame:0,end_frame:0,skip:1\n",
      "0\n",
      "fps:0, frame_cnt:0 interval_frame:0, height:0.0, width:0.0, start_frame:0,end_frame:0,skip:1\n",
      "0\n",
      "fps:0, frame_cnt:0 interval_frame:0, height:0.0, width:0.0, start_frame:0,end_frame:0,skip:1\n",
      "0\n",
      "fps:0, frame_cnt:0 interval_frame:0, height:0.0, width:0.0, start_frame:0,end_frame:0,skip:1\n",
      "0\n",
      "fps:0, frame_cnt:0 interval_frame:0, height:0.0, width:0.0, start_frame:0,end_frame:0,skip:1\n",
      "0\n",
      "fps:0, frame_cnt:0 interval_frame:0, height:0.0, width:0.0, start_frame:0,end_frame:0,skip:1\n",
      "0\n",
      "fps:0, frame_cnt:0 interval_frame:0, height:0.0, width:0.0, start_frame:0,end_frame:0,skip:1\n",
      "0\n",
      "fps:0, frame_cnt:0 interval_frame:0, height:0.0, width:0.0, start_frame:0,end_frame:0,skip:1\n",
      "0\n",
      "fps:0, frame_cnt:0 interval_frame:0, height:0.0, width:0.0, start_frame:0,end_frame:0,skip:1\n",
      "0\n",
      "fps:0, frame_cnt:0 interval_frame:0, height:0.0, width:0.0, start_frame:0,end_frame:0,skip:1\n",
      "0\n",
      "fps:0, frame_cnt:0 interval_frame:0, height:0.0, width:0.0, start_frame:0,end_frame:0,skip:1\n",
      "0\n",
      "fps:0, frame_cnt:0 interval_frame:0, height:0.0, width:0.0, start_frame:0,end_frame:0,skip:1\n",
      "0\n",
      "fps:0, frame_cnt:0 interval_frame:0, height:0.0, width:0.0, start_frame:0,end_frame:0,skip:1\n",
      "0\n",
      "fps:0, frame_cnt:0 interval_frame:0, height:0.0, width:0.0, start_frame:0,end_frame:0,skip:1\n",
      "0\n"
     ]
    }
   ],
   "source": [
    "X = [] #Save the frame\n",
    "Y = [] #Save the lable\n",
    "\n",
    "for index,row in df.iterrows():\n",
    "  start_time = row[\"start_time_seconds\"]\n",
    "  end_time = row[\"end_time_seconds\"]\n",
    "  path = dataset_file_path + row[\"GD_Path\"] # Get the vidoe file path\n",
    "  label = row[\"Movement_Name\"] # Get the Movement lable\n",
    "\n",
    "  Y.append(np.where(class_list == label)[0][0])\n",
    "  X.append(np.asarray(extract_frame(path,start_time,end_time)))"
   ]
  },
  {
   "cell_type": "code",
   "execution_count": 10,
   "metadata": {
    "id": "uXwPGH4b20Sb"
   },
   "outputs": [],
   "source": [
    "def to_gif(images):\n",
    "  converted_images = np.clip(images*255, 0, 255).astype(np.uint8)\n",
    "  imageio.mimsave('./animation.gif', converted_images, fps=10)\n",
    "  # return embed.embed_file('./animation.gif')\n",
    "  return HTML('<img src=\"./animation.gif\">')"
   ]
  },
  {
   "cell_type": "code",
   "execution_count": 11,
   "metadata": {},
   "outputs": [
    {
     "ename": "ValueError",
     "evalue": "Image data must be a sequence of ndimages.",
     "output_type": "error",
     "traceback": [
      "\u001b[1;31m---------------------------------------------------------------------------\u001b[0m",
      "\u001b[1;31mValueError\u001b[0m                                Traceback (most recent call last)",
      "Cell \u001b[1;32mIn[11], line 1\u001b[0m\n\u001b[1;32m----> 1\u001b[0m \u001b[43mto_gif\u001b[49m\u001b[43m(\u001b[49m\u001b[43mX\u001b[49m\u001b[43m[\u001b[49m\u001b[38;5;241;43m0\u001b[39;49m\u001b[43m]\u001b[49m\u001b[43m)\u001b[49m\n",
      "Cell \u001b[1;32mIn[10], line 3\u001b[0m, in \u001b[0;36mto_gif\u001b[1;34m(images)\u001b[0m\n\u001b[0;32m      1\u001b[0m \u001b[38;5;28;01mdef\u001b[39;00m \u001b[38;5;21mto_gif\u001b[39m(images):\n\u001b[0;32m      2\u001b[0m   converted_images \u001b[38;5;241m=\u001b[39m np\u001b[38;5;241m.\u001b[39mclip(images\u001b[38;5;241m*\u001b[39m\u001b[38;5;241m255\u001b[39m, \u001b[38;5;241m0\u001b[39m, \u001b[38;5;241m255\u001b[39m)\u001b[38;5;241m.\u001b[39mastype(np\u001b[38;5;241m.\u001b[39muint8)\n\u001b[1;32m----> 3\u001b[0m   \u001b[43mimageio\u001b[49m\u001b[38;5;241;43m.\u001b[39;49m\u001b[43mmimsave\u001b[49m\u001b[43m(\u001b[49m\u001b[38;5;124;43m'\u001b[39;49m\u001b[38;5;124;43m./animation.gif\u001b[39;49m\u001b[38;5;124;43m'\u001b[39;49m\u001b[43m,\u001b[49m\u001b[43m \u001b[49m\u001b[43mconverted_images\u001b[49m\u001b[43m,\u001b[49m\u001b[43m \u001b[49m\u001b[43mfps\u001b[49m\u001b[38;5;241;43m=\u001b[39;49m\u001b[38;5;241;43m10\u001b[39;49m\u001b[43m)\u001b[49m\n\u001b[0;32m      4\u001b[0m   \u001b[38;5;66;03m# return embed.embed_file('./animation.gif')\u001b[39;00m\n\u001b[0;32m      5\u001b[0m   \u001b[38;5;28;01mreturn\u001b[39;00m HTML(\u001b[38;5;124m'\u001b[39m\u001b[38;5;124m<img src=\u001b[39m\u001b[38;5;124m\"\u001b[39m\u001b[38;5;124m./animation.gif\u001b[39m\u001b[38;5;124m\"\u001b[39m\u001b[38;5;124m>\u001b[39m\u001b[38;5;124m'\u001b[39m)\n",
      "File \u001b[1;32mc:\\Users\\s2165\\AppData\\Local\\Programs\\Python\\Python311\\Lib\\site-packages\\imageio\\v2.py:490\u001b[0m, in \u001b[0;36mmimwrite\u001b[1;34m(uri, ims, format, **kwargs)\u001b[0m\n\u001b[0;32m    470\u001b[0m \u001b[38;5;250m\u001b[39m\u001b[38;5;124;03m\"\"\"mimwrite(uri, ims, format=None, **kwargs)\u001b[39;00m\n\u001b[0;32m    471\u001b[0m \n\u001b[0;32m    472\u001b[0m \u001b[38;5;124;03mWrite multiple images to the specified file.\u001b[39;00m\n\u001b[1;32m   (...)\u001b[0m\n\u001b[0;32m    486\u001b[0m \u001b[38;5;124;03m    to see what arguments are available for a particular format.\u001b[39;00m\n\u001b[0;32m    487\u001b[0m \u001b[38;5;124;03m\"\"\"\u001b[39;00m\n\u001b[0;32m    489\u001b[0m \u001b[38;5;28;01mif\u001b[39;00m \u001b[38;5;129;01mnot\u001b[39;00m is_batch(ims):\n\u001b[1;32m--> 490\u001b[0m     \u001b[38;5;28;01mraise\u001b[39;00m \u001b[38;5;167;01mValueError\u001b[39;00m(\u001b[38;5;124m\"\u001b[39m\u001b[38;5;124mImage data must be a sequence of ndimages.\u001b[39m\u001b[38;5;124m\"\u001b[39m)\n\u001b[0;32m    492\u001b[0m imopen_args \u001b[38;5;241m=\u001b[39m decypher_format_arg(\u001b[38;5;28mformat\u001b[39m)\n\u001b[0;32m    493\u001b[0m imopen_args[\u001b[38;5;124m\"\u001b[39m\u001b[38;5;124mlegacy_mode\u001b[39m\u001b[38;5;124m\"\u001b[39m] \u001b[38;5;241m=\u001b[39m \u001b[38;5;28;01mTrue\u001b[39;00m\n",
      "\u001b[1;31mValueError\u001b[0m: Image data must be a sequence of ndimages."
     ]
    }
   ],
   "source": [
    "to_gif(X[0])"
   ]
  },
  {
   "cell_type": "code",
   "execution_count": null,
   "metadata": {
    "id": "Xt07vvMqKV6g"
   },
   "outputs": [],
   "source": [
    "#encode the label by using one-hot encoded\n",
    "one_hot_encoded_labels = to_categorical(Y)"
   ]
  },
  {
   "cell_type": "markdown",
   "metadata": {
    "id": "wd4DR2aHmT8o"
   },
   "source": [
    "# Split dataset into training and testing dataset"
   ]
  },
  {
   "cell_type": "code",
   "execution_count": null,
   "metadata": {
    "id": "XaT2p33nmaKH"
   },
   "outputs": [],
   "source": [
    "X_train,X_test,Y_train,Y_test = train_test_split(X,one_hot_encoded_labels,test_size=0.2,\n",
    "                                                 shuffle=True,random_state=42)"
   ]
  },
  {
   "cell_type": "code",
   "execution_count": null,
   "metadata": {
    "colab": {
     "base_uri": "https://localhost:8080/"
    },
    "id": "EsHkKCDouc_e",
    "outputId": "2d5476ad-34a2-4e6c-d6e3-c5bb428d6dc4"
   },
   "outputs": [],
   "source": [
    "class_list.size"
   ]
  }
 ],
 "metadata": {
  "accelerator": "GPU",
  "colab": {
   "gpuType": "T4",
   "provenance": []
  },
  "kernelspec": {
   "display_name": "Python 3 (ipykernel)",
   "language": "python",
   "name": "python3"
  },
  "language_info": {
   "codemirror_mode": {
    "name": "ipython",
    "version": 3
   },
   "file_extension": ".py",
   "mimetype": "text/x-python",
   "name": "python",
   "nbconvert_exporter": "python",
   "pygments_lexer": "ipython3",
   "version": "3.11.3"
  }
 },
 "nbformat": 4,
 "nbformat_minor": 4
}
